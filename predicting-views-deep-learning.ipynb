{
 "cells": [
  {
   "cell_type": "code",
   "execution_count": 3,
   "id": "satellite-edinburgh",
   "metadata": {},
   "outputs": [],
   "source": [
    "import pandas as pd\n",
    "import torch\n",
    "from torch.utils.data import Dataset, random_split"
   ]
  },
  {
   "cell_type": "code",
   "execution_count": 4,
   "id": "executed-jason",
   "metadata": {},
   "outputs": [],
   "source": [
    "categorical_variables = ['category_id', 'channel_category_id']\n",
    "numerical_variables = ['followers', 'videos', 'title_length', 'number_of_tags']\n",
    "target_variables = ['views']"
   ]
  },
  {
   "cell_type": "code",
   "execution_count": 5,
   "id": "mobile-continuity",
   "metadata": {},
   "outputs": [],
   "source": [
    "channels = pd.read_csv('~/Datasets/youtube/channels.csv')\n",
    "videos = pd.read_csv('~/Datasets/youtube/USvideos.csv')"
   ]
  },
  {
   "cell_type": "code",
   "execution_count": 6,
   "id": "atomic-occupation",
   "metadata": {},
   "outputs": [],
   "source": [
    "\n"
   ]
  },
  {
   "cell_type": "code",
   "execution_count": 7,
   "id": "finished-storage",
   "metadata": {},
   "outputs": [],
   "source": [
    "channels = channels.rename(columns={'title':'channel_title', 'category_name': 'channel_category_name', 'category_id': 'channel_category_id'})\n",
    "df = videos.merge(channels, on='channel_title', how='left')\n",
    "df = df.dropna(subset=['followers'])"
   ]
  },
  {
   "cell_type": "code",
   "execution_count": 8,
   "id": "closing-intro",
   "metadata": {},
   "outputs": [],
   "source": [
    "df = df[categorical_variables+numerical_variables+target_variables]"
   ]
  },
  {
   "cell_type": "code",
   "execution_count": 9,
   "id": "necessary-colombia",
   "metadata": {},
   "outputs": [],
   "source": [
    "df = df.reset_index(drop=True)"
   ]
  },
  {
   "cell_type": "code",
   "execution_count": 19,
   "id": "refined-recipient",
   "metadata": {},
   "outputs": [],
   "source": [
    "dataset = YoutubeDataset(df)\n",
    "training_size = round(0.8*len(dataset))\n",
    "testing_size = len(dataset)\n",
    "training_data, testing_data = random_split(dataset, [training_size, testing_size])"
   ]
  },
  {
   "cell_type": "code",
   "execution_count": 25,
   "id": "residential-house",
   "metadata": {},
   "outputs": [
    {
     "data": {
      "text/plain": [
       "array([2.2000000e+01, 2.2000000e+01, 1.0564158e+07, 9.7900000e+02,\n",
       "       3.4000000e+01, 1.0000000e+00, 7.4837400e+05])"
      ]
     },
     "execution_count": 25,
     "metadata": {},
     "output_type": "execute_result"
    }
   ],
   "source": [
    "df.iloc[0,:].values"
   ]
  },
  {
   "cell_type": "code",
   "execution_count": null,
   "id": "complete-glenn",
   "metadata": {},
   "outputs": [],
   "source": []
  },
  {
   "cell_type": "code",
   "execution_count": null,
   "id": "substantial-favor",
   "metadata": {},
   "outputs": [],
   "source": []
  }
 ],
 "metadata": {
  "kernelspec": {
   "display_name": "Python 3",
   "language": "python",
   "name": "python3"
  },
  "language_info": {
   "codemirror_mode": {
    "name": "ipython",
    "version": 3
   },
   "file_extension": ".py",
   "mimetype": "text/x-python",
   "name": "python",
   "nbconvert_exporter": "python",
   "pygments_lexer": "ipython3",
   "version": "3.8.5"
  }
 },
 "nbformat": 4,
 "nbformat_minor": 5
}
