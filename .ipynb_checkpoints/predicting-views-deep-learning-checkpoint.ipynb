{
 "cells": [
  {
   "cell_type": "code",
   "execution_count": 42,
   "metadata": {},
   "outputs": [
    {
     "ename": "ModuleNotFoundError",
     "evalue": "No module named 'torch'",
     "output_type": "error",
     "traceback": [
      "\u001b[0;31m---------------------------------------------------------------------------\u001b[0m",
      "\u001b[0;31mModuleNotFoundError\u001b[0m                       Traceback (most recent call last)",
      "\u001b[0;32m<ipython-input-42-18e7fcb20c7f>\u001b[0m in \u001b[0;36m<module>\u001b[0;34m\u001b[0m\n\u001b[1;32m      1\u001b[0m \u001b[0;32mimport\u001b[0m \u001b[0mpandas\u001b[0m \u001b[0;32mas\u001b[0m \u001b[0mpd\u001b[0m\u001b[0;34m\u001b[0m\u001b[0;34m\u001b[0m\u001b[0m\n\u001b[0;32m----> 2\u001b[0;31m \u001b[0;32mimport\u001b[0m \u001b[0mtorch\u001b[0m\u001b[0;34m\u001b[0m\u001b[0;34m\u001b[0m\u001b[0m\n\u001b[0m",
      "\u001b[0;31mModuleNotFoundError\u001b[0m: No module named 'torch'"
     ]
    }
   ],
   "source": [
    "import pandas as pd\n",
    "import torch"
   ]
  },
  {
   "cell_type": "code",
   "execution_count": 39,
   "metadata": {},
   "outputs": [],
   "source": [
    "categorical_variables = ['category_id', 'channel_category_id']\n",
    "numerical_variables = ['followers', 'videos', 'title_length', 'number_of_tags']\n",
    "target_variables = ['views']"
   ]
  },
  {
   "cell_type": "code",
   "execution_count": 35,
   "metadata": {},
   "outputs": [],
   "source": [
    "channels = pd.read_csv('~/Datasets/youtube/channels.csv')\n",
    "videos = pd.read_csv('~/Datasets/youtube/USvideos.csv')"
   ]
  },
  {
   "cell_type": "code",
   "execution_count": 36,
   "metadata": {},
   "outputs": [],
   "source": [
    "def get_title_length(title):\n",
    "    return len(title)\n",
    "def get_number_of_tags(string_of_tags):\n",
    "    tags = string_of_tags.split('|')\n",
    "    tags_no_empty_strings = []\n",
    "    for tag in tags:\n",
    "        if tag != '':\n",
    "            tags_no_empty_strings.append(tag)\n",
    "    return len(tags_no_empty_strings)\n",
    "def contains_all_caps_word(title):\n",
    "    words = title.split(' ')\n",
    "    words_in_capital = [word for word in words if word.isupper()]\n",
    "    return 1 if len(words_in_capital) >=3 else 0\n",
    "\n",
    "videos['title_length'] = videos.apply(lambda row: get_title_length(row['title']), axis=1)\n",
    "videos['number_of_tags'] = videos.apply(lambda row: get_number_of_tags(row['tags']), axis=1)\n",
    "videos['title_contains_all_caps_word'] = videos.apply(lambda row: contains_all_caps_word(row['title']), axis=1)"
   ]
  },
  {
   "cell_type": "code",
   "execution_count": 37,
   "metadata": {},
   "outputs": [],
   "source": [
    "channels = channels.rename(columns={'title':'channel_title', 'category_name': 'channel_category_name', 'category_id': 'channel_category_id'})\n",
    "df = videos.merge(channels, on='channel_title', how='left')\n",
    "df = df.dropna(subset=['followers'])"
   ]
  },
  {
   "cell_type": "code",
   "execution_count": 40,
   "metadata": {},
   "outputs": [],
   "source": [
    "df = df[categorical_variables+numerical_variables+target_variables]"
   ]
  },
  {
   "cell_type": "code",
   "execution_count": 45,
   "metadata": {},
   "outputs": [],
   "source": [
    "df = df.reset_index(drop=True)"
   ]
  },
  {
   "cell_type": "code",
   "execution_count": 46,
   "metadata": {},
   "outputs": [
    {
     "name": "stdout",
     "output_type": "stream",
     "text": [
      "<class 'pandas.core.frame.DataFrame'>\n",
      "RangeIndex: 37316 entries, 0 to 37315\n",
      "Data columns (total 7 columns):\n",
      " #   Column               Non-Null Count  Dtype  \n",
      "---  ------               --------------  -----  \n",
      " 0   category_id          37316 non-null  int64  \n",
      " 1   channel_category_id  37316 non-null  float64\n",
      " 2   followers            37316 non-null  float64\n",
      " 3   videos               37316 non-null  float64\n",
      " 4   title_length         37316 non-null  int64  \n",
      " 5   number_of_tags       37316 non-null  int64  \n",
      " 6   views                37316 non-null  int64  \n",
      "dtypes: float64(3), int64(4)\n",
      "memory usage: 2.0 MB\n"
     ]
    }
   ],
   "source": [
    "df.info()"
   ]
  },
  {
   "cell_type": "code",
   "execution_count": null,
   "metadata": {},
   "outputs": [],
   "source": []
  }
 ],
 "metadata": {
  "kernelspec": {
   "display_name": "Python 3",
   "language": "python",
   "name": "python3"
  },
  "language_info": {
   "codemirror_mode": {
    "name": "ipython",
    "version": 3
   },
   "file_extension": ".py",
   "mimetype": "text/x-python",
   "name": "python",
   "nbconvert_exporter": "python",
   "pygments_lexer": "ipython3",
   "version": "3.8.5"
  }
 },
 "nbformat": 4,
 "nbformat_minor": 5
}
